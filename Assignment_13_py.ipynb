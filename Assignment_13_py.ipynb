{
  "nbformat": 4,
  "nbformat_minor": 0,
  "metadata": {
    "colab": {
      "name": "Assignment 13.py",
      "provenance": [],
      "collapsed_sections": [],
      "authorship_tag": "ABX9TyMaW5265/MEPO26GlYIxzMM",
      "include_colab_link": true
    },
    "kernelspec": {
      "name": "python3",
      "display_name": "Python 3"
    }
  },
  "cells": [
    {
      "cell_type": "markdown",
      "metadata": {
        "id": "view-in-github",
        "colab_type": "text"
      },
      "source": [
        "<a href=\"https://colab.research.google.com/github/vamsi2805/Assignment-13/blob/master/Assignment_13_py.ipynb\" target=\"_parent\"><img src=\"https://colab.research.google.com/assets/colab-badge.svg\" alt=\"Open In Colab\"/></a>"
      ]
    },
    {
      "cell_type": "markdown",
      "metadata": {
        "id": "4NWYonwDLHR0",
        "colab_type": "text"
      },
      "source": [
        "1.Write a program to sum all the items in a list."
      ]
    },
    {
      "cell_type": "code",
      "metadata": {
        "id": "BqRNLcT_LKon",
        "colab_type": "code",
        "colab": {
          "base_uri": "https://localhost:8080/",
          "height": 34
        },
        "outputId": "c7880503-2afd-434b-e7a3-4d304615fd4d"
      },
      "source": [
        "def sum_list(mylist):\n",
        "  sum = 0\n",
        "  for item in mylist:\n",
        "    sum = sum + item\n",
        "  print(\"Sum of all the items in the given list is:\",sum)\n",
        "sum_list([1,22,5,8,464,64,64,64,64,64,64,])"
      ],
      "execution_count": 1,
      "outputs": [
        {
          "output_type": "stream",
          "text": [
            "Sum of all the items in the given list is: 884\n"
          ],
          "name": "stdout"
        }
      ]
    },
    {
      "cell_type": "markdown",
      "metadata": {
        "id": "zqzVyEu3LURL",
        "colab_type": "text"
      },
      "source": [
        "2.Write a program to create a list of empty dictionaries."
      ]
    },
    {
      "cell_type": "code",
      "metadata": {
        "id": "xvOFIOoGLZ3i",
        "colab_type": "code",
        "colab": {
          "base_uri": "https://localhost:8080/",
          "height": 51
        },
        "outputId": "77a654b8-3677-4919-c057-5d273565741d"
      },
      "source": [
        "n = int(input(\"Enter number of empty dictionaries: \"))\n",
        "dict1 = {}\n",
        "list1 = [dict1] * n\n",
        "print(\"List of\",n,\"empty dictionaries:\",list1)"
      ],
      "execution_count": 2,
      "outputs": [
        {
          "output_type": "stream",
          "text": [
            "Enter number of empty dictionaries: 8\n",
            "List of 8 empty dictionaries: [{}, {}, {}, {}, {}, {}, {}, {}]\n"
          ],
          "name": "stdout"
        }
      ]
    },
    {
      "cell_type": "markdown",
      "metadata": {
        "id": "3E5xz2TZLnd0",
        "colab_type": "text"
      },
      "source": [
        "3.Write a program to access dictionary keys element by index."
      ]
    },
    {
      "cell_type": "code",
      "metadata": {
        "id": "pGkJ0VA7LrqR",
        "colab_type": "code",
        "colab": {
          "base_uri": "https://localhost:8080/",
          "height": 102
        },
        "outputId": "1f95e1ef-d542-4a23-d35b-bc5ab0022040"
      },
      "source": [
        "dict1 = {\"vamsi\":1, \"dinesh\":2, \"raja\":3, \"kaif\":4}\n",
        "print(\"Given dictionary:\",dict1)\n",
        "mylist = list(dict1)\n",
        "index = 0\n",
        "for item in mylist:\n",
        "  print(\"Index \",index,\"has:\",mylist[index])\n",
        "  index = index + 1"
      ],
      "execution_count": 3,
      "outputs": [
        {
          "output_type": "stream",
          "text": [
            "Given dictionary: {'vamsi': 1, 'dinesh': 2, 'raja': 3, 'kaif': 4}\n",
            "Index  0 has: vamsi\n",
            "Index  1 has: dinesh\n",
            "Index  2 has: raja\n",
            "Index  3 has: kaif\n"
          ],
          "name": "stdout"
        }
      ]
    },
    {
      "cell_type": "markdown",
      "metadata": {
        "id": "BrCECFX3L-ZB",
        "colab_type": "text"
      },
      "source": [
        "4.Write a program to iterate over dictionaries using for loops."
      ]
    },
    {
      "cell_type": "code",
      "metadata": {
        "id": "hqEzWu60MC2K",
        "colab_type": "code",
        "colab": {
          "base_uri": "https://localhost:8080/",
          "height": 289
        },
        "outputId": "f8ef004a-0dcc-42da-b0f9-e513e9eda609"
      },
      "source": [
        "dict1 = {\"vamsi\":1, \"dinesh\":2, \"raja\":3, \"kaif\":4}\n",
        "print(\"Given dictionary:\",dict1)\n",
        "print(\"Keys present in the given dictionary:\")\n",
        "for item in dict1:\n",
        "  print(item)\n",
        "\n",
        "print(\"Values present in the given dictionary:\")\n",
        "for item in dict1.values():\n",
        "  print(item)\n",
        "\n",
        "print(\"Key:Value pairs in the given dictionary:\")\n",
        "for (k,v) in dict1.items():\n",
        "  print(k,\":\",v)"
      ],
      "execution_count": 4,
      "outputs": [
        {
          "output_type": "stream",
          "text": [
            "Given dictionary: {'vamsi': 1, 'dinesh': 2, 'raja': 3, 'kaif': 4}\n",
            "Keys present in the given dictionary:\n",
            "vamsi\n",
            "dinesh\n",
            "raja\n",
            "kaif\n",
            "Values present in the given dictionary:\n",
            "1\n",
            "2\n",
            "3\n",
            "4\n",
            "Key:Value pairs in the given dictionary:\n",
            "vamsi : 1\n",
            "dinesh : 2\n",
            "raja : 3\n",
            "kaif : 4\n"
          ],
          "name": "stdout"
        }
      ]
    },
    {
      "cell_type": "markdown",
      "metadata": {
        "id": "NwkpCWTCMK-J",
        "colab_type": "text"
      },
      "source": [
        "Write a program to sum all the items in a given dictionary."
      ]
    },
    {
      "cell_type": "code",
      "metadata": {
        "id": "pmRepx3FMQqW",
        "colab_type": "code",
        "colab": {
          "base_uri": "https://localhost:8080/",
          "height": 68
        },
        "outputId": "1b70b49d-1879-4d44-b5cc-5facc0d5c3f8"
      },
      "source": [
        "dict1 = {1:10, 2:20, 3:30, 4:40, 5:50}\n",
        "print(\"Given dictionary:\",dict1)\n",
        "sum=0\n",
        "for value in dict1.values():\n",
        "  sum = sum + value\n",
        "print(\"Sum of all the values in the given dictionary:\",sum)\n",
        "\n",
        "for key in dict1.keys():\n",
        "  sum = sum + key\n",
        "print(\"Sum of all keys in the given dictionary:\",sum)"
      ],
      "execution_count": 6,
      "outputs": [
        {
          "output_type": "stream",
          "text": [
            "Given dictionary: {1: 10, 2: 20, 3: 30, 4: 40, 5: 50}\n",
            "Sum of all the values in the given dictionary: 150\n",
            "Sum of all keys in the given dictionary: 165\n"
          ],
          "name": "stdout"
        }
      ]
    }
  ]
}